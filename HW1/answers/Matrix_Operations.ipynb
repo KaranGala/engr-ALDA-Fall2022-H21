{
  "cells": [
    {
      "cell_type": "markdown",
      "id": "429628df",
      "metadata": {
        "id": "429628df"
      },
      "source": [
        "# ADLA CSC522\n",
        "#### HW1\n",
        "#### Group: H21\n",
        "#### Karan Gala \n",
        "#### Sahil Sawant\n",
        "#### Akhil Namboodiri"
      ]
    },
    {
      "cell_type": "markdown",
      "id": "8564794c",
      "metadata": {
        "id": "8564794c"
      },
      "source": [
        "# Generate a 5*5 identity matrix A."
      ]
    },
    {
      "cell_type": "code",
      "execution_count": 1,
      "id": "37d4d0e8",
      "metadata": {
        "id": "37d4d0e8",
        "outputId": "1a8a4586-e6b4-4b64-a7d5-eb5718f7a79c",
        "colab": {
          "base_uri": "https://localhost:8080/"
        }
      },
      "outputs": [
        {
          "output_type": "stream",
          "name": "stdout",
          "text": [
            "A: [[1 0 0 0 0]\n",
            " [0 1 0 0 0]\n",
            " [0 0 1 0 0]\n",
            " [0 0 0 1 0]\n",
            " [0 0 0 0 1]]\n"
          ]
        }
      ],
      "source": [
        "import numpy as np\n",
        "A = np.array([[1,0,0,0,0],[0,1,0,0,0],[0,0,1,0,0],[0,0,0,1,0],[0,0,0,0,1]])\n",
        "print(\"A:\",A)"
      ]
    },
    {
      "cell_type": "markdown",
      "id": "70862aca",
      "metadata": {
        "id": "70862aca"
      },
      "source": [
        "# Change all elements in the 5th column of A to 5."
      ]
    },
    {
      "cell_type": "code",
      "execution_count": 2,
      "id": "7aa61b87",
      "metadata": {
        "id": "7aa61b87",
        "outputId": "8acfc86c-7a8e-4c70-db8d-bf2a6320fbbe",
        "colab": {
          "base_uri": "https://localhost:8080/"
        }
      },
      "outputs": [
        {
          "output_type": "stream",
          "name": "stdout",
          "text": [
            "A: [[1 0 0 0 5]\n",
            " [0 1 0 0 5]\n",
            " [0 0 1 0 5]\n",
            " [0 0 0 1 5]\n",
            " [0 0 0 0 5]]\n"
          ]
        }
      ],
      "source": [
        "for i in range(5):\n",
        "    A[i][4] = 5\n",
        "print(\"A:\",A)"
      ]
    },
    {
      "cell_type": "markdown",
      "id": "a0886ec1",
      "metadata": {
        "id": "a0886ec1"
      },
      "source": [
        "# Sum of all elements in the matrix (use ONE “for/while loop”)."
      ]
    },
    {
      "cell_type": "code",
      "execution_count": 3,
      "id": "d489cab1",
      "metadata": {
        "id": "d489cab1",
        "outputId": "49ba7958-a756-4396-f7b7-72f833e31706",
        "colab": {
          "base_uri": "https://localhost:8080/"
        }
      },
      "outputs": [
        {
          "output_type": "stream",
          "name": "stdout",
          "text": [
            "Sum of all elements in the matrix: 29\n"
          ]
        }
      ],
      "source": [
        "sum = 0\n",
        "for i in A:\n",
        "    sum+=np.sum(i)\n",
        "print(\"Sum of all elements in the matrix:\",sum)"
      ]
    },
    {
      "cell_type": "code",
      "execution_count": 4,
      "id": "72a4b732",
      "metadata": {
        "id": "72a4b732",
        "outputId": "a104d88f-d8d4-489b-fb07-d0f5aa296daf",
        "colab": {
          "base_uri": "https://localhost:8080/"
        }
      },
      "outputs": [
        {
          "output_type": "stream",
          "name": "stdout",
          "text": [
            "Sum of all elements in the matrix: 29\n"
          ]
        }
      ],
      "source": [
        "sum2 = np.sum(A)\n",
        "print(\"Sum of all elements in the matrix:\",sum2)"
      ]
    },
    {
      "cell_type": "markdown",
      "id": "cbf6eccc",
      "metadata": {
        "id": "cbf6eccc"
      },
      "source": [
        "# Transpose the matrix A (A=AT )."
      ]
    },
    {
      "cell_type": "code",
      "execution_count": 5,
      "id": "03c0bf7e",
      "metadata": {
        "id": "03c0bf7e",
        "outputId": "03923f7d-443a-4778-881e-4cc9cff5f910",
        "colab": {
          "base_uri": "https://localhost:8080/"
        }
      },
      "outputs": [
        {
          "output_type": "stream",
          "name": "stdout",
          "text": [
            "Transpose of A: [[1 0 0 0 0]\n",
            " [0 1 0 0 0]\n",
            " [0 0 1 0 0]\n",
            " [0 0 0 1 0]\n",
            " [5 5 5 5 5]]\n"
          ]
        }
      ],
      "source": [
        "AT = np.transpose(A)\n",
        "print(\"Transpose of A:\",AT)"
      ]
    },
    {
      "cell_type": "code",
      "source": [
        "AT = np.zeros((5,5))\n",
        "for i in range(5):\n",
        "  for j in range(5):\n",
        "    AT[i][j] = A[j][i]\n",
        "print(\"Transpose of A:\",AT)"
      ],
      "metadata": {
        "colab": {
          "base_uri": "https://localhost:8080/"
        },
        "id": "cR2Sd2RN2BpF",
        "outputId": "084ba0a3-c31f-4224-e65a-c635f4c5dde9"
      },
      "id": "cR2Sd2RN2BpF",
      "execution_count": 6,
      "outputs": [
        {
          "output_type": "stream",
          "name": "stdout",
          "text": [
            "Transpose of A: [[1. 0. 0. 0. 0.]\n",
            " [0. 1. 0. 0. 0.]\n",
            " [0. 0. 1. 0. 0.]\n",
            " [0. 0. 0. 1. 0.]\n",
            " [5. 5. 5. 5. 5.]]\n"
          ]
        }
      ]
    },
    {
      "cell_type": "markdown",
      "id": "2cc54481",
      "metadata": {
        "id": "2cc54481"
      },
      "source": [
        "# Calculate the sum of the 5th row, the sum of the diagonal and the sum of the 1st column in matrix A, respectively (your answer should be three numbers). Use the transposed matrix from the previous part."
      ]
    },
    {
      "cell_type": "code",
      "execution_count": 7,
      "id": "66cf165d",
      "metadata": {
        "id": "66cf165d",
        "outputId": "49e11847-4e62-4f2e-b9a8-73e05a492f4d",
        "colab": {
          "base_uri": "https://localhost:8080/"
        }
      },
      "outputs": [
        {
          "output_type": "stream",
          "name": "stdout",
          "text": [
            "Sum of 5th row: 25.0\n",
            "Sum of 1st column: 6.0\n",
            "Sum of Diagonal elements: 9.0\n"
          ]
        }
      ],
      "source": [
        "sum5 = np.sum(AT[4])\n",
        "print(\"Sum of 5th row:\", sum5)\n",
        "sum1 = 0\n",
        "for i in range(5):\n",
        "    sum1+=AT[i][0]\n",
        "print(\"Sum of 1st column:\", sum1)\n",
        "sumD = 0\n",
        "for i in range(5):\n",
        "    sumD+=AT[i][i]\n",
        "print(\"Sum of Diagonal elements:\", sumD)"
      ]
    },
    {
      "cell_type": "markdown",
      "id": "1ecfacc1",
      "metadata": {
        "id": "1ecfacc1"
      },
      "source": [
        "# Generate a 5*5 matrix B following standard normal distribution."
      ]
    },
    {
      "cell_type": "code",
      "execution_count": 8,
      "id": "9c676883",
      "metadata": {
        "id": "9c676883",
        "outputId": "8f3645dc-2078-43ea-8604-86265382cce4",
        "colab": {
          "base_uri": "https://localhost:8080/"
        }
      },
      "outputs": [
        {
          "output_type": "stream",
          "name": "stdout",
          "text": [
            "Matrix B: [[2.5452833  2.97915952 3.36415772 2.67618576 2.96693581]\n",
            " [2.78658079 2.81756899 3.36430994 3.10971939 2.86295184]\n",
            " [2.49374949 2.54239402 3.06640962 3.19225717 3.22737013]\n",
            " [2.81063256 3.59789933 3.08960295 2.92183558 2.27145742]\n",
            " [3.32917176 3.16415336 3.48238412 2.67411579 3.19037623]]\n"
          ]
        }
      ],
      "source": [
        "B = np.random.normal(3,0.5,(5,5))\n",
        "print(\"Matrix B:\",B)"
      ]
    },
    {
      "cell_type": "markdown",
      "id": "3b133cf9",
      "metadata": {
        "id": "3b133cf9"
      },
      "source": [
        "## From A and B, using matrix operations to get a new 2*5 matrix C such that, the first row of C is equal to the 1st row of B minus the 1st row of A, the second row of C is equal to the sum of the 5th row of A and the 5th row of B."
      ]
    },
    {
      "cell_type": "code",
      "execution_count": 9,
      "id": "7d9b9e1e",
      "metadata": {
        "id": "7d9b9e1e",
        "outputId": "b1cf31a0-c405-403b-c6cd-3883c3a2b762",
        "colab": {
          "base_uri": "https://localhost:8080/"
        }
      },
      "outputs": [
        {
          "output_type": "stream",
          "name": "stdout",
          "text": [
            "Matrix C: [[ 1.5452833   2.97915952  3.36415772  2.67618576 -2.03306419]\n",
            " [ 3.32917176  3.16415336  3.48238412  2.67411579  8.19037623]]\n"
          ]
        }
      ],
      "source": [
        "C = np.empty(shape = (2,5))\n",
        "C[0] = B[0] - A[0]\n",
        "C[1] = B[4] + A[4]\n",
        "print(\"Matrix C:\",C)"
      ]
    },
    {
      "cell_type": "markdown",
      "id": "8bf8ba67",
      "metadata": {
        "id": "8bf8ba67"
      },
      "source": [
        "# From C, using ONE matrix operation to get a new matrix D such that,the first column of D is equal to the first column of C, the second column of D is equal to the second column of C times 2, the third column of D is equal to the third column of C times 3, and so on."
      ]
    },
    {
      "cell_type": "code",
      "execution_count": 10,
      "id": "0cf1de49",
      "metadata": {
        "id": "0cf1de49",
        "outputId": "0d30a65c-5a4f-43e6-f497-b403aaa0f561",
        "colab": {
          "base_uri": "https://localhost:8080/"
        }
      },
      "outputs": [
        {
          "output_type": "stream",
          "name": "stdout",
          "text": [
            "D : [[  1.5452833    5.95831905  10.09247317  10.70474305 -10.16532097]\n",
            " [  3.32917176   6.32830672  10.44715235  10.69646317  40.95188114]]\n"
          ]
        }
      ],
      "source": [
        "D = np.empty(shape = (5,2))\n",
        "temp = np.transpose(C)\n",
        "for i in range(5):\n",
        "    D[i] = (i+1)*temp[i]\n",
        "D = np.transpose(D)\n",
        "print(\"D :\",D)\n"
      ]
    },
    {
      "cell_type": "markdown",
      "id": "1cf84305",
      "metadata": {
        "id": "1cf84305"
      },
      "source": [
        "# X = [1, 1, 1, 2]T , Y = [0, 3, 6, 9]T , Z = [4, 3, 2, 1]T . Compute the covariance matrix of X, Y, and Z. Then compute the Pearson correlation coefficients between X and Y."
      ]
    },
    {
      "cell_type": "code",
      "execution_count": 11,
      "id": "1fefc6cb",
      "metadata": {
        "id": "1fefc6cb",
        "outputId": "ed915240-87a0-4ea2-a7b0-615852571b9b",
        "colab": {
          "base_uri": "https://localhost:8080/"
        }
      },
      "outputs": [
        {
          "output_type": "stream",
          "name": "stdout",
          "text": [
            "Covariance of matrix X,Y and Z:\n",
            "[[ 0.25        1.5        -0.5       ]\n",
            " [ 1.5        15.         -5.        ]\n",
            " [-0.5        -5.          1.66666667]]\n",
            "\n",
            "Pearson Correlation Coefficients between X and Y:\n",
            "[[1.         0.77459667]\n",
            " [0.77459667 1.        ]] 0.7745966692414834\n"
          ]
        }
      ],
      "source": [
        "import numpy as np\n",
        "X = np.array([[1],[1],[1],[2]])\n",
        "Y = np.array([[0],[3],[6],[9]])\n",
        "Z = np.array([[4],[3],[2],[1]])\n",
        "covMatrix = np.cov(np.concatenate((X.T,Y.T,Z.T),axis = 0))\n",
        "print(\"Covariance of matrix X,Y and Z:\")\n",
        "print(covMatrix)\n",
        "print()\n",
        "pc = np.corrcoef(X.T,Y.T)\n",
        "print(\"Pearson Correlation Coefficients between X and Y:\")\n",
        "print(pc, pc[0][1])"
      ]
    },
    {
      "cell_type": "markdown",
      "id": "a147ea48",
      "metadata": {
        "id": "a147ea48"
      },
      "source": [
        "# Verify the equation: ¯x 2 = (¯x2+σ2(x)) using x = [23, 19, 21, 22, 21, 23, 23, 20]T when (python library math is allowed): \n",
        "## i. σ(x) is the population standard  eviation. Show your work. \n",
        "## ii. σ(x) is the sample standard deviation. Show your work."
      ]
    },
    {
      "cell_type": "code",
      "execution_count": 12,
      "id": "76c41157",
      "metadata": {
        "id": "76c41157",
        "outputId": "09ce14e8-082b-4eee-9d00-512839fbcfe0",
        "colab": {
          "base_uri": "https://localhost:8080/"
        }
      },
      "outputs": [
        {
          "output_type": "stream",
          "name": "stdout",
          "text": [
            "Mean of X: 21.5\n"
          ]
        }
      ],
      "source": [
        "x = (np.array([23,19,21,22,21,23,23,20]))\n",
        "meanX = np.average(x)\n",
        "import statistics\n",
        "sdXSample = statistics.stdev(x)\n",
        "sdXPopulation = statistics.pstdev(x)\n",
        "print(\"Mean of X:\", meanX)"
      ]
    },
    {
      "cell_type": "code",
      "execution_count": 13,
      "id": "0571866e",
      "metadata": {
        "id": "0571866e",
        "outputId": "b3009637-f6f9-4b3f-fa8a-e2549d7fafeb",
        "colab": {
          "base_uri": "https://localhost:8080/"
        }
      },
      "outputs": [
        {
          "output_type": "stream",
          "name": "stdout",
          "text": [
            "SD of population: \t 1.4142135623730951\n",
            "SD of sample: \t\t 1.511857892036909\n"
          ]
        }
      ],
      "source": [
        "popSD = 0\n",
        "sampleSD = 0\n",
        "n = len(x)\n",
        "v = 0\n",
        "v2 = 0\n",
        "for i in x:\n",
        "    v+=(meanX-i)*(meanX-i)/(n)\n",
        "    v2+=(meanX-i)*(meanX-i)/(n-1)\n",
        "popSD = v**0.5\n",
        "sampleSD = v2**0.5\n",
        "print(\"SD of population: \\t\",popSD)\n",
        "print(\"SD of sample: \\t\\t\",sampleSD)"
      ]
    },
    {
      "cell_type": "code",
      "execution_count": 14,
      "id": "4d663e1e",
      "metadata": {
        "id": "4d663e1e",
        "outputId": "cd282b3b-82ba-43e3-d9c2-8a3a1da73664",
        "colab": {
          "base_uri": "https://localhost:8080/"
        }
      },
      "outputs": [
        {
          "output_type": "stream",
          "name": "stdout",
          "text": [
            "Mean Squared with population standard deviation squared:  464.25\n",
            "Mean Squared with population standard deviation squared:  464.5357142857143\n"
          ]
        }
      ],
      "source": [
        "meanXSq = meanX**2\n",
        "print(\"Mean Squared with population standard deviation squared: \",meanXSq+popSD**2) #RHS\n",
        "print(\"Mean Squared with population standard deviation squared: \",meanXSq+sampleSD**2)"
      ]
    },
    {
      "cell_type": "code",
      "execution_count": 15,
      "id": "f874ed07",
      "metadata": {
        "id": "f874ed07",
        "outputId": "8de56d0d-b459-4181-92d5-ec4a4d428c9d",
        "colab": {
          "base_uri": "https://localhost:8080/"
        }
      },
      "outputs": [
        {
          "output_type": "stream",
          "name": "stdout",
          "text": [
            "Mean of sum of data points square:  464.25\n"
          ]
        }
      ],
      "source": [
        "print(\"Mean of sum of data points square: \",np.average(np.square(x))) #LHS"
      ]
    },
    {
      "cell_type": "markdown",
      "source": [
        "## The equation can be verified for the population standard deviation"
      ],
      "metadata": {
        "id": "dZm9alaR3Iyv"
      },
      "id": "dZm9alaR3Iyv"
    }
  ],
  "metadata": {
    "kernelspec": {
      "display_name": "Python 3 (ipykernel)",
      "language": "python",
      "name": "python3"
    },
    "language_info": {
      "codemirror_mode": {
        "name": "ipython",
        "version": 3
      },
      "file_extension": ".py",
      "mimetype": "text/x-python",
      "name": "python",
      "nbconvert_exporter": "python",
      "pygments_lexer": "ipython3",
      "version": "3.9.12"
    },
    "colab": {
      "provenance": []
    }
  },
  "nbformat": 4,
  "nbformat_minor": 5
}