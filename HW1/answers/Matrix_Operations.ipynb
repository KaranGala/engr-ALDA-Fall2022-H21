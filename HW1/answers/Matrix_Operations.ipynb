{
  "cells": [
    {
      "cell_type": "markdown",
      "id": "429628df",
      "metadata": {
        "id": "429628df"
      },
      "source": [
        "# ADLA CSC522\n",
        "#### HW1\n",
        "#### Group: H21\n",
        "#### Karan Gala \n",
        "#### Sahil Sawant\n",
        "#### Akhil Namboodiri"
      ]
    },
    {
      "cell_type": "markdown",
      "id": "8564794c",
      "metadata": {
        "id": "8564794c"
      },
      "source": [
        "# Generate a 5*5 identity matrix A."
      ]
    },
    {
      "cell_type": "code",
      "execution_count": 18,
      "id": "37d4d0e8",
      "metadata": {
        "id": "37d4d0e8",
        "outputId": "ec3fc62e-cec9-4df0-9f2a-100b037e189f",
        "colab": {
          "base_uri": "https://localhost:8080/"
        }
      },
      "outputs": [
        {
          "output_type": "execute_result",
          "data": {
            "text/plain": [
              "array([[1, 0, 0, 0, 0],\n",
              "       [0, 1, 0, 0, 0],\n",
              "       [0, 0, 1, 0, 0],\n",
              "       [0, 0, 0, 1, 0],\n",
              "       [0, 0, 0, 0, 1]])"
            ]
          },
          "metadata": {},
          "execution_count": 18
        }
      ],
      "source": [
        "import numpy as np\n",
        "A = np.array([[1,0,0,0,0],[0,1,0,0,0],[0,0,1,0,0],[0,0,0,1,0],[0,0,0,0,1]])\n",
        "A"
      ]
    },
    {
      "cell_type": "markdown",
      "id": "70862aca",
      "metadata": {
        "id": "70862aca"
      },
      "source": [
        "# Change all elements in the 5th column of A to 5."
      ]
    },
    {
      "cell_type": "code",
      "execution_count": 19,
      "id": "7aa61b87",
      "metadata": {
        "id": "7aa61b87",
        "outputId": "1f4fb716-36e1-49d1-b6a1-85306de99ac9",
        "colab": {
          "base_uri": "https://localhost:8080/"
        }
      },
      "outputs": [
        {
          "output_type": "execute_result",
          "data": {
            "text/plain": [
              "array([[1, 0, 0, 0, 5],\n",
              "       [0, 1, 0, 0, 5],\n",
              "       [0, 0, 1, 0, 5],\n",
              "       [0, 0, 0, 1, 5],\n",
              "       [0, 0, 0, 0, 5]])"
            ]
          },
          "metadata": {},
          "execution_count": 19
        }
      ],
      "source": [
        "for i in range(5):\n",
        "    A[i][4] = 5\n",
        "A"
      ]
    },
    {
      "cell_type": "markdown",
      "id": "a0886ec1",
      "metadata": {
        "id": "a0886ec1"
      },
      "source": [
        "# Sum of all elements in the matrix (use ONE “for/while loop”)."
      ]
    },
    {
      "cell_type": "code",
      "execution_count": 20,
      "id": "d489cab1",
      "metadata": {
        "id": "d489cab1",
        "outputId": "e85115e9-fa32-4eb9-fc58-d17a6e848f98",
        "colab": {
          "base_uri": "https://localhost:8080/"
        }
      },
      "outputs": [
        {
          "output_type": "execute_result",
          "data": {
            "text/plain": [
              "29"
            ]
          },
          "metadata": {},
          "execution_count": 20
        }
      ],
      "source": [
        "sum = 0\n",
        "for i in A:\n",
        "    sum+=np.sum(i)\n",
        "sum"
      ]
    },
    {
      "cell_type": "code",
      "execution_count": 21,
      "id": "72a4b732",
      "metadata": {
        "id": "72a4b732",
        "outputId": "43cd65f2-9128-4852-c894-d68689b313bb",
        "colab": {
          "base_uri": "https://localhost:8080/"
        }
      },
      "outputs": [
        {
          "output_type": "execute_result",
          "data": {
            "text/plain": [
              "29"
            ]
          },
          "metadata": {},
          "execution_count": 21
        }
      ],
      "source": [
        "sum2 = np.sum(A)\n",
        "sum2"
      ]
    },
    {
      "cell_type": "markdown",
      "id": "cbf6eccc",
      "metadata": {
        "id": "cbf6eccc"
      },
      "source": [
        "# Transpose the matrix A (A=AT )."
      ]
    },
    {
      "cell_type": "code",
      "execution_count": 22,
      "id": "03c0bf7e",
      "metadata": {
        "id": "03c0bf7e",
        "outputId": "20eab474-6209-45a8-d209-08e66311c4dd",
        "colab": {
          "base_uri": "https://localhost:8080/"
        }
      },
      "outputs": [
        {
          "output_type": "execute_result",
          "data": {
            "text/plain": [
              "array([[1, 0, 0, 0, 0],\n",
              "       [0, 1, 0, 0, 0],\n",
              "       [0, 0, 1, 0, 0],\n",
              "       [0, 0, 0, 1, 0],\n",
              "       [5, 5, 5, 5, 5]])"
            ]
          },
          "metadata": {},
          "execution_count": 22
        }
      ],
      "source": [
        "AT = np.transpose(A)\n",
        "AT"
      ]
    },
    {
      "cell_type": "code",
      "source": [
        "AT = np.zeros((5,5))\n",
        "for i in range(5):\n",
        "  for j in range(5):\n",
        "    AT[i][j] = A[j][i]\n",
        "AT"
      ],
      "metadata": {
        "colab": {
          "base_uri": "https://localhost:8080/"
        },
        "id": "cR2Sd2RN2BpF",
        "outputId": "c6f41692-b099-4bbd-94b7-5da415b3c3eb"
      },
      "id": "cR2Sd2RN2BpF",
      "execution_count": 23,
      "outputs": [
        {
          "output_type": "execute_result",
          "data": {
            "text/plain": [
              "array([[1., 0., 0., 0., 0.],\n",
              "       [0., 1., 0., 0., 0.],\n",
              "       [0., 0., 1., 0., 0.],\n",
              "       [0., 0., 0., 1., 0.],\n",
              "       [5., 5., 5., 5., 5.]])"
            ]
          },
          "metadata": {},
          "execution_count": 23
        }
      ]
    },
    {
      "cell_type": "markdown",
      "id": "2cc54481",
      "metadata": {
        "id": "2cc54481"
      },
      "source": [
        "# Calculate the sum of the 5th row, the sum of the diagonal and the sum of the 1st column in matrix A, respectively (your answer should be three numbers). Use the transposed matrix from the previous part."
      ]
    },
    {
      "cell_type": "code",
      "execution_count": 24,
      "id": "66cf165d",
      "metadata": {
        "id": "66cf165d",
        "outputId": "32784c16-c5eb-4864-ab13-fc37c001ffa6",
        "colab": {
          "base_uri": "https://localhost:8080/"
        }
      },
      "outputs": [
        {
          "output_type": "stream",
          "name": "stdout",
          "text": [
            "Sum of 5th row: 25.0\n",
            "Sum of 1st column: 6.0\n",
            "Sum of Diagonal elements: 9.0\n"
          ]
        }
      ],
      "source": [
        "sum5 = np.sum(AT[4])\n",
        "print(\"Sum of 5th row:\", sum5)\n",
        "sum1 = 0\n",
        "for i in range(5):\n",
        "    sum1+=AT[i][0]\n",
        "print(\"Sum of 1st column:\", sum1)\n",
        "sumD = 0\n",
        "for i in range(5):\n",
        "    sumD+=AT[i][i]\n",
        "print(\"Sum of Diagonal elements:\", sumD)"
      ]
    },
    {
      "cell_type": "markdown",
      "id": "1ecfacc1",
      "metadata": {
        "id": "1ecfacc1"
      },
      "source": [
        "# Generate a 5*5 matrix B following standard normal distribution."
      ]
    },
    {
      "cell_type": "code",
      "execution_count": 25,
      "id": "9c676883",
      "metadata": {
        "id": "9c676883",
        "outputId": "4d6a866f-293b-45cc-ddc1-abd38e2cb607",
        "colab": {
          "base_uri": "https://localhost:8080/"
        }
      },
      "outputs": [
        {
          "output_type": "execute_result",
          "data": {
            "text/plain": [
              "array([[3.28530538, 2.51284604, 2.76503772, 2.91919723, 2.81374224],\n",
              "       [3.01603991, 3.57112138, 3.05022633, 2.15185857, 2.33834881],\n",
              "       [2.60862271, 3.69217796, 2.88162901, 2.62289769, 2.75506897],\n",
              "       [3.79236804, 3.48991234, 3.30613709, 3.67041122, 2.05425629],\n",
              "       [2.67106314, 3.16837451, 3.55316914, 3.84892862, 2.38779581]])"
            ]
          },
          "metadata": {},
          "execution_count": 25
        }
      ],
      "source": [
        "B = np.random.normal(3,0.5,(5,5))\n",
        "B"
      ]
    },
    {
      "cell_type": "markdown",
      "id": "3b133cf9",
      "metadata": {
        "id": "3b133cf9"
      },
      "source": [
        "## From A and B, using matrix operations to get a new 2*5 matrix C such that, the first row of C is equal to the 1st row of B minus the 1st row of A, the second row of C is equal to the sum of the 5th row of A and the 5th row of B."
      ]
    },
    {
      "cell_type": "code",
      "execution_count": 26,
      "id": "7d9b9e1e",
      "metadata": {
        "id": "7d9b9e1e",
        "outputId": "d4471408-f941-47cb-c05b-f8201003db44",
        "colab": {
          "base_uri": "https://localhost:8080/"
        }
      },
      "outputs": [
        {
          "output_type": "execute_result",
          "data": {
            "text/plain": [
              "array([[ 2.28530538,  2.51284604,  2.76503772,  2.91919723, -2.18625776],\n",
              "       [ 2.67106314,  3.16837451,  3.55316914,  3.84892862,  7.38779581]])"
            ]
          },
          "metadata": {},
          "execution_count": 26
        }
      ],
      "source": [
        "C = np.empty(shape = (2,5))\n",
        "C[0] = B[0] - A[0]\n",
        "C[1] = B[4] + A[4]\n",
        "C"
      ]
    },
    {
      "cell_type": "markdown",
      "id": "8bf8ba67",
      "metadata": {
        "id": "8bf8ba67"
      },
      "source": [
        "# From C, using ONE matrix operation to get a new matrix D such that,the first column of D is equal to the first column of C, the second column of D is equal to the second column of C times 2, the third column of D is equal to the third column of C times 3, and so on."
      ]
    },
    {
      "cell_type": "code",
      "execution_count": 27,
      "id": "0cf1de49",
      "metadata": {
        "id": "0cf1de49",
        "outputId": "f2a4d4d1-5632-4150-c365-af86beadb312",
        "colab": {
          "base_uri": "https://localhost:8080/"
        }
      },
      "outputs": [
        {
          "output_type": "execute_result",
          "data": {
            "text/plain": [
              "array([[  2.28530538,   5.02569207,   8.29511316,  11.67678893,\n",
              "        -10.93128881],\n",
              "       [  2.67106314,   6.33674901,  10.65950743,  15.39571447,\n",
              "         36.93897904]])"
            ]
          },
          "metadata": {},
          "execution_count": 27
        }
      ],
      "source": [
        "D = np.empty(shape = (5,2))\n",
        "temp = np.transpose(C)\n",
        "for i in range(5):\n",
        "    D[i] = (i+1)*temp[i]\n",
        "D = np.transpose(D)\n",
        "D"
      ]
    },
    {
      "cell_type": "markdown",
      "id": "1cf84305",
      "metadata": {
        "id": "1cf84305"
      },
      "source": [
        "# X = [1, 1, 1, 2]T , Y = [0, 3, 6, 9]T , Z = [4, 3, 2, 1]T . Compute the covariance matrix of X, Y, and Z. Then compute the Pearson correlation coefficients between X and Y."
      ]
    },
    {
      "cell_type": "code",
      "execution_count": 28,
      "id": "1fefc6cb",
      "metadata": {
        "id": "1fefc6cb",
        "outputId": "5560b364-3e13-4fc0-c0f0-dc8b5415645e",
        "colab": {
          "base_uri": "https://localhost:8080/"
        }
      },
      "outputs": [
        {
          "output_type": "stream",
          "name": "stdout",
          "text": [
            "Covariance of matrix X,Y and Z:\n",
            "[[ 0.25        1.5        -0.5       ]\n",
            " [ 1.5        15.         -5.        ]\n",
            " [-0.5        -5.          1.66666667]]\n",
            "\n",
            "Pearson Correlation Coefficients between X and Y:\n",
            "[[1.         0.77459667]\n",
            " [0.77459667 1.        ]]\n"
          ]
        }
      ],
      "source": [
        "import numpy as np\n",
        "X = np.array([[1],[1],[1],[2]])\n",
        "Y = np.array([[0],[3],[6],[9]])\n",
        "Z = np.array([[4],[3],[2],[1]])\n",
        "covMatrix = np.cov(np.concatenate((X.T,Y.T,Z.T),axis = 0))\n",
        "print(\"Covariance of matrix X,Y and Z:\")\n",
        "print(covMatrix)\n",
        "print()\n",
        "pc = np.corrcoef(X.T,Y.T)\n",
        "print(\"Pearson Correlation Coefficients between X and Y:\")\n",
        "print(pc)"
      ]
    },
    {
      "cell_type": "markdown",
      "id": "a147ea48",
      "metadata": {
        "id": "a147ea48"
      },
      "source": [
        "# Verify the equation: ¯x 2 = (¯x2+σ2(x)) using x = [23, 19, 21, 22, 21, 23, 23, 20]T when (python library math is allowed): \n",
        "## i. σ(x) is the population standard  eviation. Show your work. \n",
        "## ii. σ(x) is the sample standard deviation. Show your work."
      ]
    },
    {
      "cell_type": "code",
      "execution_count": 29,
      "id": "76c41157",
      "metadata": {
        "id": "76c41157",
        "outputId": "415d322d-a350-49a9-d759-98724d62b599",
        "colab": {
          "base_uri": "https://localhost:8080/"
        }
      },
      "outputs": [
        {
          "output_type": "stream",
          "name": "stdout",
          "text": [
            "21.5 1.4142135623730951 1.4142135623730951\n"
          ]
        }
      ],
      "source": [
        "x = (np.array([23,19,21,22,21,23,23,20]))\n",
        "meanX = np.average(x)\n",
        "import statistics\n",
        "sdXSample = statistics.stdev(x)\n",
        "sdXPopulation = statistics.pstdev(x)\n",
        "print(meanX,sdXPopulation,sdXSample)"
      ]
    },
    {
      "cell_type": "code",
      "execution_count": 30,
      "id": "0571866e",
      "metadata": {
        "id": "0571866e",
        "outputId": "77ad2eda-8d7a-4b0a-ad5d-914dd7d6b8ca",
        "colab": {
          "base_uri": "https://localhost:8080/"
        }
      },
      "outputs": [
        {
          "output_type": "stream",
          "name": "stdout",
          "text": [
            "SD of population: \t 1.4142135623730951\n",
            "SD of sample: \t\t 1.511857892036909\n"
          ]
        }
      ],
      "source": [
        "popSD = 0\n",
        "sampleSD = 0\n",
        "n = len(x)\n",
        "v = 0\n",
        "v2 = 0\n",
        "for i in x:\n",
        "    v+=(meanX-i)*(meanX-i)/(n)\n",
        "    v2+=(meanX-i)*(meanX-i)/(n-1)\n",
        "popSD = v**0.5\n",
        "sampleSD = v2**0.5\n",
        "print(\"SD of population: \\t\",popSD)\n",
        "print(\"SD of sample: \\t\\t\",sampleSD)"
      ]
    },
    {
      "cell_type": "code",
      "execution_count": 31,
      "id": "4d663e1e",
      "metadata": {
        "id": "4d663e1e",
        "outputId": "7018abc2-8618-49b7-e2ad-40835dd529d4",
        "colab": {
          "base_uri": "https://localhost:8080/"
        }
      },
      "outputs": [
        {
          "output_type": "execute_result",
          "data": {
            "text/plain": [
              "464.25"
            ]
          },
          "metadata": {},
          "execution_count": 31
        }
      ],
      "source": [
        "meanXSq = meanX**2\n",
        "meanXSq+popSD**2 #RHS"
      ]
    },
    {
      "cell_type": "code",
      "execution_count": 32,
      "id": "f874ed07",
      "metadata": {
        "id": "f874ed07",
        "outputId": "e7148b6f-bac1-4526-c6f4-6669ae6bbf13",
        "colab": {
          "base_uri": "https://localhost:8080/"
        }
      },
      "outputs": [
        {
          "output_type": "execute_result",
          "data": {
            "text/plain": [
              "464.25"
            ]
          },
          "metadata": {},
          "execution_count": 32
        }
      ],
      "source": [
        "np.average(np.square(x)) #LHS"
      ]
    },
    {
      "cell_type": "markdown",
      "source": [
        "# LHS == RHS"
      ],
      "metadata": {
        "id": "dZm9alaR3Iyv"
      },
      "id": "dZm9alaR3Iyv"
    },
    {
      "cell_type": "code",
      "execution_count": 32,
      "id": "3b73ca8d",
      "metadata": {
        "id": "3b73ca8d"
      },
      "outputs": [],
      "source": []
    }
  ],
  "metadata": {
    "kernelspec": {
      "display_name": "Python 3 (ipykernel)",
      "language": "python",
      "name": "python3"
    },
    "language_info": {
      "codemirror_mode": {
        "name": "ipython",
        "version": 3
      },
      "file_extension": ".py",
      "mimetype": "text/x-python",
      "name": "python",
      "nbconvert_exporter": "python",
      "pygments_lexer": "ipython3",
      "version": "3.9.12"
    },
    "colab": {
      "provenance": []
    }
  },
  "nbformat": 4,
  "nbformat_minor": 5
}